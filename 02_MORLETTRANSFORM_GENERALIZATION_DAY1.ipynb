{
 "cells": [
  {
   "cell_type": "markdown",
   "id": "382dd0c4",
   "metadata": {},
   "source": [
    "# Morlet Time Frequency Analysis Transform "
   ]
  },
  {
   "cell_type": "markdown",
   "id": "1547adac",
   "metadata": {},
   "source": [
    "### Modules"
   ]
  },
  {
   "cell_type": "code",
   "execution_count": null,
   "id": "b34f775b",
   "metadata": {},
   "outputs": [],
   "source": [
    "import mne \n",
    "import numpy as np\n",
    "np.set_printoptions(threshold=10000)\n",
    "import pickle\n",
    "import os\n",
    "import gc"
   ]
  },
  {
   "cell_type": "markdown",
   "id": "bb55a650",
   "metadata": {},
   "source": [
    "### Define dictionaries, subject, & conditions"
   ]
  },
  {
   "cell_type": "code",
   "execution_count": null,
   "id": "548d4a79",
   "metadata": {},
   "outputs": [],
   "source": [
    "# path to data files\n",
    "data_path = \"./\"\n",
    "\n",
    "# subject \n",
    "subj = 'xx' \n",
    "\n",
    "# list of conditions\n",
    "condition_list = ['produce_music', 'perceive_music_produced', 'perceive_music_new', 'perceive_music_newrepetition', 'produce_speech', 'perceive_speech_produced', 'perceive_speech_new', 'perceive_speech_newrepetition']\n",
    "\n",
    "# dictionary path \n",
    "dictionary_path = os.path.join(data_path, subj, \"dictionary/\")"
   ]
  },
  {
   "cell_type": "markdown",
   "id": "84b07f53",
   "metadata": {},
   "source": [
    "## Run Time-Frequency Analysis "
   ]
  },
  {
   "cell_type": "markdown",
   "id": "7abe5173",
   "metadata": {},
   "source": [
    "### TFA seperately for each channel (selected channels in pick) "
   ]
  },
  {
   "cell_type": "code",
   "execution_count": null,
   "id": "1b5bdbc0",
   "metadata": {},
   "outputs": [],
   "source": [
    "def calculate_TFA(channel, epochs, tmin, tmax, fmin, fmax, frequencies, n_cycles): \n",
    "    # for channel in picks_selected:\n",
    "    print(channel)\n",
    "    \n",
    "    # calculate TFA \n",
    "    power = mne.time_frequency.tfr_morlet(inst=epochs, freqs=frequencies, n_cycles=n_cycles, use_fft=False, return_itc=False, decim=1, n_jobs=-1, picks=channel, zero_mean=True, average=True, output='power', verbose=None)\n",
    "                \n",
    "    # cut data   \n",
    "    trim = 1\n",
    "    end = 300 \n",
    "    epoch_duration = 2.98\n",
    "    sfreq = power.info['sfreq']\n",
    "    epoch_duration_tp = int(epoch_duration * sfreq)\n",
    "        \n",
    "    tfa = power\n",
    "    times = tfa.times\n",
    "    trim_start_index = int((trim * tfa.info['sfreq']) + 1)\n",
    "    trim_end_index = int((end - trim) * tfa.info['sfreq'])         \n",
    "    tfa_trimmed = tfa.crop(tmin=times[trim_start_index], tmax=times[trim_end_index]) \n",
    "            \n",
    "    # epoch data \n",
    "    start_indices = np.arange(0, len(tfa_trimmed.times), epoch_duration_tp, dtype=int)\n",
    "        \n",
    "    power_new = tfa_trimmed.data\n",
    "    power_segmented = np.zeros((len(start_indices), 1, len(frequencies), epoch_duration_tp))\n",
    "    \n",
    "    for i, start in enumerate(start_indices):\n",
    "        end = start + epoch_duration_tp\n",
    "        power_segmented[i,:,:,:] = power_new[:,:,start:end]        \n",
    "        \n",
    "    # average over timepoints  #-> (n_epochs, n_channels, n_freqs)   \n",
    "    timepoints_averaged = np.mean(power_segmented, axis=-1)\n",
    "\n",
    "    del power_new, tfa_trimmed, tfa, power, trim_start_index, trim_end_index, trim, end, epoch_duration, sfreq, epoch_duration_tp\n",
    "    gc.collect()\n",
    "    \n",
    "    return(timepoints_averaged)\n",
    "    "
   ]
  },
  {
   "cell_type": "code",
   "execution_count": null,
   "id": "e2a4d871",
   "metadata": {},
   "outputs": [],
   "source": [
    "for condition in condition_list: \n",
    "    print(condition)\n",
    "    \n",
    "    # epochs \n",
    "    preprocessed_path = data_path + subj + \"/preprocessed/\" + condition + \"/\"\n",
    "    for files in os.listdir(preprocessed_path):\n",
    "        if 'day1_bipolar_epochs_preprocessed.fif' in files:\n",
    "            path = preprocessed_path + files + '/'\n",
    "            epochs = mne.read_epochs(path, preload=False)      \n",
    "\n",
    "    # parameters for TFA \n",
    "    tmin = 0 \n",
    "    tmax = 300 \n",
    "    fmin = 1\n",
    "    fmax = 180\n",
    "    frequencies = np.logspace(np.log10(fmin), np.log10(fmax), num = 50, base = 10)  # log10 freq scale \n",
    "    n_cycles = frequencies / frequencies[0]  # number of cycles \n",
    "     \n",
    "    # channels \n",
    "    picks = epochs.ch_names\n",
    "    \n",
    "    # calculate TFA and epoch data \n",
    "    results = {}\n",
    "    j = 0\n",
    "    for channel in picks:  \n",
    "        channel = channel\n",
    "        result = calculate_TFA(channel, epochs, tmin, tmax, fmin, fmax, frequencies, n_cycles)\n",
    "        results[j] = result\n",
    "        j += 1 \n",
    "        print(j)\n",
    "        \n",
    "        # clear memory \n",
    "        del result, channel\n",
    "        gc.collect()\n",
    "        \n",
    "    # put results together again  #-> (n_epochs, n_channels, n_freqs)\n",
    "    morlet_results = np.empty((100, 0, len(frequencies)))\n",
    "    for key in results: \n",
    "        morlet_results = np.concatenate((morlet_results, results[key]), axis=1)\n",
    "        \n",
    "    # store data\n",
    "    with open(dictionary_path + condition + '_day1_morlet_results.pickle', 'wb') as f:\n",
    "        pickle.dump(morlet_results, f)\n",
    "    \n",
    "    # clear memory \n",
    "    del morlet_results, results, picks, epochs, tmin, tmax, fmin, fmax, n_cycles           \n",
    "    gc.collect()\n",
    "    "
   ]
  }
 ],
 "metadata": {
  "kernelspec": {
   "display_name": "Python 3 (ipykernel)",
   "language": "python",
   "name": "python3"
  },
  "language_info": {
   "codemirror_mode": {
    "name": "ipython",
    "version": 3
   },
   "file_extension": ".py",
   "mimetype": "text/x-python",
   "name": "python",
   "nbconvert_exporter": "python",
   "pygments_lexer": "ipython3",
   "version": "3.8.13"
  }
 },
 "nbformat": 4,
 "nbformat_minor": 5
}
